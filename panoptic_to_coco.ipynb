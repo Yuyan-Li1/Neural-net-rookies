{
 "cells": [
  {
   "cell_type": "code",
   "execution_count": 10,
   "metadata": {},
   "outputs": [
    {
     "name": "stdout",
     "output_type": "stream",
     "text": [
      "Saved to json\n"
     ]
    }
   ],
   "source": [
    "import os\n",
    "import cv2\n",
    "import json\n",
    "import numpy as np\n",
    "from PIL import Image\n",
    "\n",
    "MAX_N = 100\n",
    "\n",
    "categories = [\n",
    "  {\n",
    "    \"supercategory\": \"none\",\n",
    "    \"name\": \"people\",\n",
    "    \"id\": 0\n",
    "  }\n",
    "]\n",
    "\n",
    "def main():\n",
    "  label_path = './Root/images/labels/0009'\n",
    "  save_path = './output/'\n",
    "  res_file = {\n",
    "    \"categories\": categories,\n",
    "    \"images\": [],\n",
    "    \"annotations\": []\n",
    "  }\n",
    "\n",
    "  for label_filename in os.listdir(label_path):\n",
    "    label = cv2.imread(f'{label_path}/{label_filename}')\n",
    "    blue_channel = label[:, :, 0]\n",
    "    output_filename = label_filename[:-4]\n",
    "    image_id = 0\n",
    "    img_elem = {\"file_name\": output_filename,\n",
    "                \"height\": label.shape[0],\n",
    "                \"width\": label.shape[1],\n",
    "                \"id\": image_id}\n",
    "\n",
    "    res_file[\"images\"].append(img_elem)\n",
    "    save_to_json(res_file, output_filename, blue_channel, label, image_id)\n",
    "  with open(f'{save_path}/train.json', 'w') as out:\n",
    "      out.write(json.dumps(res_file))\n",
    "      print('Saved to json')\n",
    "\n",
    "def save_to_json(res_file, filename, blue_channel, label, image_id):\n",
    "      instance_IDs = np.unique(blue_channel)\n",
    "      annot_count = 0\n",
    "      for tracking_ID in instance_IDs:\n",
    "        if tracking_ID != 0:\n",
    "          c = blue_channel.copy()\n",
    "          c = np.where(c == tracking_ID, 200, 0).astype(np.uint8)\n",
    "          x, y, w, h = cv2.boundingRect(c)\n",
    "          area = w * h\n",
    "          poly = [[x, y],\n",
    "                  [x + w, y],\n",
    "                  [x + w, y + h],\n",
    "                  [x, y + h]]\n",
    "          annot_elem = {\n",
    "            \"id\": annot_count,\n",
    "            \"bbox\": [\n",
    "                float(x),\n",
    "                float(y),\n",
    "                float(w),\n",
    "                float(h)\n",
    "            ],\n",
    "            \"segmentation\": list([poly]),\n",
    "            \"image_id\": image_id,\n",
    "            \"ignore\": 0,\n",
    "            \"category_id\": 0,\n",
    "            \"iscrowd\": 0,\n",
    "            \"area\": float(area)\n",
    "          }\n",
    "          res_file[\"annotations\"].append(annot_elem)\n",
    "\n",
    "if __name__ == '__main__':\n",
    "    main()\n",
    "\n"
   ]
  }
 ],
 "metadata": {
  "kernelspec": {
   "display_name": "Python 3.10.5 ('venv': venv)",
   "language": "python",
   "name": "python3"
  },
  "language_info": {
   "codemirror_mode": {
    "name": "ipython",
    "version": 3
   },
   "file_extension": ".py",
   "mimetype": "text/x-python",
   "name": "python",
   "nbconvert_exporter": "python",
   "pygments_lexer": "ipython3",
   "version": "3.10.5"
  },
  "orig_nbformat": 4,
  "vscode": {
   "interpreter": {
    "hash": "bf42da09b54544d0855370fd7008755511ba27637d633b05e38b1425e4f54120"
   }
  }
 },
 "nbformat": 4,
 "nbformat_minor": 2
}
